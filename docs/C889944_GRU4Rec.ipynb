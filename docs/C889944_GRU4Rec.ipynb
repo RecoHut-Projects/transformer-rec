{
 "cells": [
  {
   "cell_type": "markdown",
   "id": "6ac16ee1-dcb7-423c-84b4-abb3efac10d2",
   "metadata": {},
   "source": [
    "# GRU4Rec"
   ]
  },
  {
   "cell_type": "markdown",
   "id": "fab21b49-c70b-4f35-b34e-d34bd8323066",
   "metadata": {},
   "source": [
    "Real-life recommender systems often face the problem of having to base recommendations only on short session-based data (e.g. a small sportswear website) instead of long user histories (as in the case of Netflix). In this situation the frequently praised matrix factorization approaches are not accurate. This problem is usually overcome in practice by resorting to item-to-item recommendations, i.e. recommending similar items. GRU4Rec models the whole session by using RNN-based approach for session-based recommendations. This approach also considers practical aspects of the task and introduces several modifications to classic RNNs such as a ranking loss function that make it more viable for this specific problem."
   ]
  }
 ],
 "metadata": {
  "kernelspec": {
   "display_name": "Python 3",
   "language": "python",
   "name": "python3"
  },
  "language_info": {
   "codemirror_mode": {
    "name": "ipython",
    "version": 3
   },
   "file_extension": ".py",
   "mimetype": "text/x-python",
   "name": "python",
   "nbconvert_exporter": "python",
   "pygments_lexer": "ipython3",
   "version": "3.7.8"
  }
 },
 "nbformat": 4,
 "nbformat_minor": 5
}
