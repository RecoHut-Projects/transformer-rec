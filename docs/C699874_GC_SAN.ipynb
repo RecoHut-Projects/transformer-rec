{
  "nbformat": 4,
  "nbformat_minor": 0,
  "metadata": {
    "colab": {
      "name": "C699874 | GC-SAN: Graph Contextualized Self-Attention Network for Session-based Recommendation",
      "provenance": [],
      "authorship_tag": "ABX9TyOP2EjWe/Dgqt6uo1zRyo09"
    },
    "kernelspec": {
      "name": "python3",
      "display_name": "Python 3"
    },
    "language_info": {
      "name": "python"
    }
  },
  "cells": [
    {
      "cell_type": "markdown",
      "metadata": {
        "id": "3HTm3uxaAblr"
      },
      "source": [
        "# GC-SAN\n",
        "> Graph Contextualized Self-Attention Network for Session-based Recommendation."
      ]
    },
    {
      "cell_type": "markdown",
      "metadata": {
        "id": "hRoFlQ80AiEr"
      },
      "source": [
        "Session-based recommendation, which aims to predict the user’s immediate next action based on anonymous sessions, is a key task in many online services (e.g. e-commerce, media streaming). Recently, Self-Attention Network (SAN) has achieved significant success in various sequence modeling tasks without using either recurrent or convolutional network. However, SAN lacks local dependencies that exist over adjacent items and limits its capacity for learning contextualized representations of items in sequences. Graph contextualized self-attention model (GC-SAN) utilizes both graph neural network and self-attention mechanism, for session-based recommendation. In GC-SAN, we dynamically construct a graph structure for session sequences and capture rich local dependencies via graph neural network (GNN). Then each session learns long-range dependencies by applying the self-attention mechanism. Finally, each session is represented as a linear combination of the global preference and the current interest of that session."
      ]
    },
    {
      "cell_type": "markdown",
      "metadata": {
        "id": "OFlDQ7etBFC1"
      },
      "source": [
        "## Architecture\n",
        "\n",
        "<p><center><img src='_images/C699874_1.png'></p></center>\n",
        "\n",
        "We first construct a directed graph of all session sequences. Based on the graph, we apply graph neural network to obtain all node vectors involved in the session graph. After that, we use a multi-layer self-attention network to capture long-range dependencies between items in the session. In prediction layer, we represent each session as a linear of the global preference and the current interest of that session. Finally, we compute the ranking scores of each candidate item for recommendation."
      ]
    },
    {
      "cell_type": "markdown",
      "metadata": {
        "id": "5gHzeQCPBKff"
      },
      "source": [
        "### Performance\n",
        "\n",
        "<p><center><img src='_images/C699874_2.png'></p></center>"
      ]
    }
  ]
}