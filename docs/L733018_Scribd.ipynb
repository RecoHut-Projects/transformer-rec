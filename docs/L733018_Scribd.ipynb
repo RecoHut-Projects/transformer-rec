{
  "nbformat": 4,
  "nbformat_minor": 0,
  "metadata": {
    "colab": {
      "name": "L733018 | Transformer-Based Real-Time Recommendation at Scribd",
      "provenance": [],
      "authorship_tag": "ABX9TyM4ZJTOqs4lFRA/+4xtO1Kp"
    },
    "kernelspec": {
      "name": "python3",
      "display_name": "Python 3"
    },
    "language_info": {
      "name": "python"
    }
  },
  "cells": [
    {
      "cell_type": "markdown",
      "metadata": {
        "id": "qF4BYa5UFj0E"
      },
      "source": [
        "# Scribd\n",
        "\n",
        "> Transformer-Based Real-Time Recommendation at Scribd."
      ]
    },
    {
      "cell_type": "markdown",
      "metadata": {
        "id": "gFFekYHtFpn3"
      },
      "source": [
        "Transformer based model architecture can be applied to recommendation applications as well but recommendation problems are a bit more complex than NLP domain so it needs to be adapted according to the business needs. Therefore, instead of predicting next word based on the past sequence of words, at Scribd, we are interested in predicting what user would like to read next based on rich user interaction history with multiple types of documents and multiple types of interactions, where position in sequence & relative time are both important factors.\n",
        "\n",
        "### **Model Architecture**\n",
        "\n",
        "We only used encoders of transformer architecture which uses self-attention to combine signals from users’ past interactions. Self-attention is pretty effective mechanism to capture any recent change in user’s interests and also preserving long term context at the same time. But our model still had popularity bias and we reduced it by stratifying training data."
      ]
    },
    {
      "cell_type": "markdown",
      "metadata": {
        "id": "qN6zZnEtFsBs"
      },
      "source": [
        "<p><center><img src='_images/L733018_1.png'></p></center>"
      ]
    },
    {
      "cell_type": "markdown",
      "metadata": {
        "id": "y8fF0u9cFsiP"
      },
      "source": [
        "### **Results**\n",
        "\n",
        "Using Scribd’s internal A/B testing platform, we conducted an experiment comparing the existing recommendations service with the new personalization model to generate subscribers’ home page. The test ran for approximately a month with >1M Scribd users (trialers or subscribers) assigned as participants. After careful analysis of results, we saw the following statistically significant (p<0.01) improvements in the personalization variant compared to the control experience across all user segments:\n",
        "\n",
        "- Increase in the number of users who clicked on a recommended item\n",
        "- Increase in the average number of clicks per user\n",
        "- Increase in the number of users with a read time of at least 10 minutes (in a three day window)\n",
        "- These increases represent significant business impact on key performance metrics.\n",
        "\n",
        "### References\n",
        "\n",
        "1. [https://towardsdatascience.com/transformer-based-real-time-recommendation-at-scribd-5fa05f000c47](https://towardsdatascience.com/transformer-based-real-time-recommendation-at-scribd-5fa05f000c47)"
      ]
    }
  ]
}