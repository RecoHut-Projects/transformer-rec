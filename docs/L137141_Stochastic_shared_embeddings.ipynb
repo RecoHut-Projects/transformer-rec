{
 "cells": [
  {
   "cell_type": "markdown",
   "id": "f3509c48-a25d-4878-a0bb-b1899f0cdc3a",
   "metadata": {},
   "source": [
    "# Stochastic shared embeddings"
   ]
  },
  {
   "cell_type": "markdown",
   "id": "3cf37b9f-bba3-4d95-baed-1b03c7af46a3",
   "metadata": {},
   "source": [
    "*In deep neural nets, lower level embedding layers account for a large portion of the total number of parameters. Tikhonov regularization, graph-based regularization, and hard parameter sharing are approaches that introduce explicit biases into training in a hope to reduce statistical complexity. Alternatively, we propose stochastically shared embeddings (SSE), a data-driven approach to regularizing embedding layers, which stochastically transitions between embeddings during stochastic gradient descent (SGD). Because SSE integrates seamlessly with existing SGD algorithms, it can be used with only minor modifications when training large scale neural networks. We develop two versions of SSE: SSE-Graph using knowledge graphs of embeddings; SSE-SE using no prior information. We provide theoretical guarantees for our method and show its empirical effectiveness on 6 distinct tasks, from simple neural networks with one hidden layer in recommender systems, to the transformer and BERT in natural languages. We find that when used along with widely-used regularization methods such as weight decay and dropout, our proposed SSE can further reduce overfitting, which often leads to more favorable generalization results.*"
   ]
  },
  {
   "cell_type": "markdown",
   "id": "a9064203-bb9a-441c-b5fd-71d312341c44",
   "metadata": {},
   "source": [
    "### References\n",
    "\n",
    "1. [Liwei Wu, Shuqing Li, Cho-Jui Hsieh, James Sharpnack. arXiv. 2019. Stochastic Shared Embeddings: Data-driven Regularization of Embedding Layers.](https://arxiv.org/abs/1905.10630)"
   ]
  }
 ],
 "metadata": {
  "kernelspec": {
   "display_name": "Python 3",
   "language": "python",
   "name": "python3"
  },
  "language_info": {
   "codemirror_mode": {
    "name": "ipython",
    "version": 3
   },
   "file_extension": ".py",
   "mimetype": "text/x-python",
   "name": "python",
   "nbconvert_exporter": "python",
   "pygments_lexer": "ipython3",
   "version": "3.7.8"
  }
 },
 "nbformat": 4,
 "nbformat_minor": 5
}
