{
  "nbformat": 4,
  "nbformat_minor": 0,
  "metadata": {
    "colab": {
      "name": "L850171 | BST Model in Taobao",
      "provenance": [],
      "authorship_tag": "ABX9TyONucaFkR/xCBhPKIk1sUz9"
    },
    "kernelspec": {
      "name": "python3",
      "display_name": "Python 3"
    },
    "language_info": {
      "name": "python"
    }
  },
  "cells": [
    {
      "cell_type": "markdown",
      "metadata": {
        "id": "ga-93JtWDR7q"
      },
      "source": [
        "# Taobao"
      ]
    },
    {
      "cell_type": "markdown",
      "metadata": {
        "id": "iXZ1vseSFRXx"
      },
      "source": [
        "The BST has been deployed in rank stage for Taobao recommendation, which provides recommending service for hundreds of millions of consumers everyday. In this paper, Alibaba described its usage and technical details in Taobao platform."
      ]
    }
  ]
}