{
  "cells": [
    {
      "cell_type": "markdown",
      "metadata": {
        "id": "ga-93JtWDR7q"
      },
      "source": [
        "# Taobao"
      ]
    },
    {
      "cell_type": "markdown",
      "metadata": {
        "id": "iXZ1vseSFRXx"
      },
      "source": [
        "The BST has been deployed in rank stage for Taobao recommendation, which provides recommending service for hundreds of millions of consumers everyday. In this paper, Alibaba described its usage and technical details in Taobao platform."
      ]
    }
  ],
  "metadata": {
    "colab": {
      "name": "L850171_Taobao.ipynb",
      "toc_visible": true
    },
    "kernelspec": {
      "display_name": "Python 3",
      "name": "python3"
    }
  },
  "nbformat": 4,
  "nbformat_minor": 0
}
