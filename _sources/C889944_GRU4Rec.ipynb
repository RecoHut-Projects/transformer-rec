{
  "cells": [
    {
      "cell_type": "markdown",
      "id": "6ac16ee1-dcb7-423c-84b4-abb3efac10d2",
      "metadata": {
        "id": "08619a93ab64"
      },
      "source": [
        "# GRU4Rec"
      ]
    },
    {
      "cell_type": "markdown",
      "id": "fab21b49-c70b-4f35-b34e-d34bd8323066",
      "metadata": {
        "id": "d515212da482"
      },
      "source": [
        "Real-life recommender systems often face the problem of having to base recommendations only on short session-based data (e.g. a small sportswear website) instead of long user histories (as in the case of Netflix). In this situation the frequently praised matrix factorization approaches are not accurate. This problem is usually overcome in practice by resorting to item-to-item recommendations, i.e. recommending similar items. GRU4Rec models the whole session by using RNN-based approach for session-based recommendations. This approach also considers practical aspects of the task and introduces several modifications to classic RNNs such as a ranking loss function that make it more viable for this specific problem."
      ]
    }
  ],
  "metadata": {
    "colab": {
      "name": "C889944_GRU4Rec.ipynb",
      "toc_visible": true
    },
    "kernelspec": {
      "display_name": "Python 3",
      "name": "python3"
    }
  },
  "nbformat": 4,
  "nbformat_minor": 0
}
