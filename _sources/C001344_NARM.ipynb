{
  "cells": [
    {
      "cell_type": "markdown",
      "id": "e45ba068-ec1c-43e0-b0dd-e78a6e75fa81",
      "metadata": {
        "id": "eacc2ccaa8cf"
      },
      "source": [
        "# NARM"
      ]
    },
    {
      "cell_type": "markdown",
      "id": "33a5eff8-6aff-4ee4-98bf-ebd0abadfda5",
      "metadata": {
        "id": "b22f8d7d0f6c"
      },
      "source": [
        "Given e-commerce scenarios that user profiles are invisible, session-based recommendation is proposed to generate recommendation results from short sessions. Previous work only considers the user's sequential behavior in the current session, whereas the user's main purpose in the current session is not emphasized. Neural Attentive Recommendation Machine (NARM) tackle this problem by employing a hybrid encoder with an attention mechanism to model the user's sequential behavior and capture the user's main purpose in the current session, which are combined as a unified session representation later. We then compute the recommendation scores for each candidate item with a bi-linear matching scheme based on this unified session representation. We train NARM by jointly learning the item and session representations as well as their matchings. NARM achieves a significant improvement on long sessions, which demonstrates its advantages in modeling the user's sequential behavior and main purpose simultaneously."
      ]
    }
  ],
  "metadata": {
    "colab": {
      "name": "C001344_NARM.ipynb",
      "toc_visible": true
    },
    "kernelspec": {
      "display_name": "Python 3",
      "name": "python3"
    }
  },
  "nbformat": 4,
  "nbformat_minor": 0
}
