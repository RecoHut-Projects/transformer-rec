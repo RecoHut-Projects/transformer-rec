{
  "cells": [
    {
      "cell_type": "markdown",
      "id": "0fd336c3-e914-4643-b592-76e1ca4e129b",
      "metadata": {
        "id": "1c283ec482fa"
      },
      "source": [
        "# Caser"
      ]
    },
    {
      "cell_type": "markdown",
      "id": "a38c6239-839b-4cb1-8258-3737933849fb",
      "metadata": {
        "id": "df6fab508c20"
      },
      "source": [
        "Top-N sequential recommendation models each user as a sequence of items interacted in the past and aims to predict top-N ranked items that a user will likely interact in a 'near future'. The order of interaction implies that sequential patterns play an important role where more recent items in a sequence have a larger impact on the next item. Convolutional Sequence Embedding Recommendation Model (Caser) address this requirement by embedding a sequence of recent items into an image' in the time and latent spaces and learn sequential patterns as local features of the image using convolutional filters. This approach provides a unified and flexible network structure for capturing both general preferences and sequential patterns.\n",
        "\n",
        "In other words, Caser adopts convolutional neural networks capture the dynamic pattern influences of users’ recent activities. The main component of Caser consists of a horizontal convolutional network and a vertical convolutional network, aiming to uncover the union-level and point-level sequence patterns, respectively. Point-level pattern indicates the impact of single item in the historical sequence on the target item, while union level pattern implies the influences of several previous actions on the subsequent target. For example, buying both milk and butter together leads to higher probability of buying flour than just buying one of them. Moreover, users’ general interests, or long term preferences are also modeled in the last fully-connected layers, resulting in a more comprehensive modeling of user interests."
      ]
    },
    {
      "cell_type": "markdown",
      "id": "dd6d10ef-1ec3-4124-adb6-35dcdd53a5cb",
      "metadata": {
        "id": "7924ccf44a11"
      },
      "source": [
        "<p><center><img src='_images/C505509_1.png'></center></p>"
      ]
    }
  ],
  "metadata": {
    "colab": {
      "name": "C505509_Caser.ipynb",
      "toc_visible": true
    },
    "kernelspec": {
      "display_name": "Python 3",
      "name": "python3"
    }
  },
  "nbformat": 4,
  "nbformat_minor": 0
}
